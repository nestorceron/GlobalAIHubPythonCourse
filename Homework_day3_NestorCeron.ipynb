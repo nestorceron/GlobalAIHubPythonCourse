{
 "cells": [
  {
   "cell_type": "markdown",
   "metadata": {},
   "source": [
    "# Problem 1: User login application\n",
    "- Get Username and Password values from the user\n",
    "- Check the values in an if statement and tell the user if they were successful"
   ]
  },
  {
   "cell_type": "code",
   "execution_count": 1,
   "metadata": {},
   "outputs": [],
   "source": [
    "# Set username and password\n",
    "registered_user = \"nceron\"\n",
    "registered_password = \"nicecity\""
   ]
  },
  {
   "cell_type": "code",
   "execution_count": 5,
   "metadata": {},
   "outputs": [
    {
     "name": "stdout",
     "output_type": "stream",
     "text": [
      "Enter username: nceron\n",
      "Enter password: nicecity\n"
     ]
    }
   ],
   "source": [
    "# Get Username and Password values from the user\n",
    "user = input(\"Enter username: \")\n",
    "password = input(\"Enter password: \")"
   ]
  },
  {
   "cell_type": "code",
   "execution_count": 6,
   "metadata": {},
   "outputs": [
    {
     "name": "stdout",
     "output_type": "stream",
     "text": [
      "your login is successful\n"
     ]
    }
   ],
   "source": [
    "# Check the values in an if statement and tell the user if they were successful\n",
    "if (user == registered_user) and (password == registered_password ):\n",
    "    print(\"your login is successful\")\n",
    "else:\n",
    "    print(\"Either wrong username or password\")"
   ]
  },
  {
   "cell_type": "markdown",
   "metadata": {},
   "source": [
    "# Extra\n",
    "- Try building the same user login application but this time, use a dictionary."
   ]
  },
  {
   "cell_type": "code",
   "execution_count": 7,
   "metadata": {},
   "outputs": [],
   "source": [
    "# # Set username and password in a dictionary\n",
    "registered = {\"user\":\"nceron\", \"password\":\"nicecity\"}"
   ]
  },
  {
   "cell_type": "code",
   "execution_count": 8,
   "metadata": {},
   "outputs": [
    {
     "name": "stdout",
     "output_type": "stream",
     "text": [
      "Enter username: aou\n",
      "Enter password: aou\n"
     ]
    }
   ],
   "source": [
    "# Get Username and Password values from the user\n",
    "different_user = input(\"Enter username: \")\n",
    "different_password = input(\"Enter password: \")"
   ]
  },
  {
   "cell_type": "code",
   "execution_count": 10,
   "metadata": {},
   "outputs": [
    {
     "name": "stdout",
     "output_type": "stream",
     "text": [
      "Either wrong username or password\n"
     ]
    }
   ],
   "source": [
    "# Check the values in an if statement and tell the user if they were successful\n",
    "if (different_user == registered[\"user\"]) and (different_password == registered[\"password\"] ):\n",
    "    print(\"your login is successful\")\n",
    "else:\n",
    "    print(\"Either wrong username or password\")"
   ]
  },
  {
   "cell_type": "code",
   "execution_count": null,
   "metadata": {},
   "outputs": [],
   "source": []
  }
 ],
 "metadata": {
  "kernelspec": {
   "display_name": "Python 3",
   "language": "python",
   "name": "python3"
  },
  "language_info": {
   "codemirror_mode": {
    "name": "ipython",
    "version": 3
   },
   "file_extension": ".py",
   "mimetype": "text/x-python",
   "name": "python",
   "nbconvert_exporter": "python",
   "pygments_lexer": "ipython3",
   "version": "3.8.5"
  }
 },
 "nbformat": 4,
 "nbformat_minor": 4
}
