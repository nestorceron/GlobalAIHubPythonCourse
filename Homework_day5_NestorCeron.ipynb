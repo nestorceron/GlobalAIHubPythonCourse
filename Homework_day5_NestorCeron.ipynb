{
 "cells": [
  {
   "cell_type": "markdown",
   "metadata": {},
   "source": [
    "# Problem\n",
    "Create three classes named Animals, Dogs and Cats. Add some features to these classes. \n",
    "Create some functions with these attributes. Don't forget!, You have to do it using inheritance. "
   ]
  },
  {
   "cell_type": "code",
   "execution_count": 32,
   "metadata": {},
   "outputs": [],
   "source": [
    "class Animal():\n",
    "    def __init__(self, name):\n",
    "        self.name = name\n",
    "    \n",
    "    def what_is_your_name(self):\n",
    "        print(self.name)\n",
    "        \n",
    "    def what_sound(self):\n",
    "        print(self.sound)\n",
    "        \n",
    "\n",
    "class Dog(Animal):\n",
    "    def __init__(self, name):\n",
    "        self.name = name\n",
    "        self.sound = \"barks\"\n",
    "\n",
    "class Cat(Animal):\n",
    "    def __init__(self, name):\n",
    "        self.name = name\n",
    "        self.sound = \"meows\""
   ]
  },
  {
   "cell_type": "code",
   "execution_count": 33,
   "metadata": {},
   "outputs": [],
   "source": [
    "pretty_dog = Dog(\"Snow\")\n",
    "neighbour_cat = Cat(\"Merlin\")"
   ]
  },
  {
   "cell_type": "code",
   "execution_count": 38,
   "metadata": {},
   "outputs": [
    {
     "name": "stdout",
     "output_type": "stream",
     "text": [
      "Snow\n",
      "barks\n"
     ]
    }
   ],
   "source": [
    "pretty_dog.what_is_your_name()\n",
    "pretty_dog.what_sound()"
   ]
  },
  {
   "cell_type": "code",
   "execution_count": 39,
   "metadata": {},
   "outputs": [
    {
     "name": "stdout",
     "output_type": "stream",
     "text": [
      "Merlin\n",
      "meows\n"
     ]
    }
   ],
   "source": [
    "neighbour_cat.what_is_your_name()\n",
    "neighbour_cat.what_sound()"
   ]
  }
 ],
 "metadata": {
  "kernelspec": {
   "display_name": "Python 3",
   "language": "python",
   "name": "python3"
  },
  "language_info": {
   "codemirror_mode": {
    "name": "ipython",
    "version": 3
   },
   "file_extension": ".py",
   "mimetype": "text/x-python",
   "name": "python",
   "nbconvert_exporter": "python",
   "pygments_lexer": "ipython3",
   "version": "3.8.5"
  }
 },
 "nbformat": 4,
 "nbformat_minor": 4
}
