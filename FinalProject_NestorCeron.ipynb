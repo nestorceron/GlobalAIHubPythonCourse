{
 "cells": [
  {
   "cell_type": "markdown",
   "metadata": {},
   "source": [
    "# Final Project: Company Management System\n",
    "- Determine the names and ages of employees, company managers, and the languages they can speak. \n",
    "- Then write a program that will print the languages that any of the employees can speak. \n",
    "- Complete the project by creating two classes named employees and manager.\n"
   ]
  },
  {
   "cell_type": "code",
   "execution_count": 148,
   "metadata": {},
   "outputs": [],
   "source": [
    "import random\n",
    "\n",
    "class Company():\n",
    "    def __init__(self, name):\n",
    "        self.name = name\n",
    "        self.people = dict()\n",
    "    \n",
    "    def add_employee(self, name):\n",
    "        self.people[name] = { \"age\": Employee().ask_age(),\n",
    "                                \"language\" : Employee().ask_language(),\n",
    "                                \"type\" : \"employee\"}\n",
    "        \n",
    "    def who_works_here(self):\n",
    "        for p in self.people.keys():\n",
    "            print(f'name: {p}')\n",
    "\n",
    "    def show_me_details_for(self, name):\n",
    "        Employee().print_details(self.people[name])\n",
    "        \n",
    "    def show_all_employees(self):\n",
    "        for p in self.people.keys():\n",
    "            print(f'name: {p}')\n",
    "            Employee().print_details(self.people[p])\n",
    "        \n",
    "    def promote_to_manager(self, name):\n",
    "        Employee().promote(self.people[name])\n",
    "        \n",
    "class Person():\n",
    "    def ask_age(self):\n",
    "#       age = input(\"what is your age?: \")\n",
    "        return random.randrange(20,60)\n",
    "\n",
    "    def ask_language(self):\n",
    "#       language = input(\"what is your age?: \")\n",
    "        language_list = [\"English\", \"Mandarin\", \"Spanish\", \"French\", \"Arabic\", \"Russian\", \"Portuguese\", \"German\", \"Japanese\", \"Turkish\"]\n",
    "        how_many_languages = random.randrange(1,3)\n",
    "        languages = []\n",
    "        for x in range(how_many_languages):\n",
    "            languages.append(language_list[random.randrange(0,len(language_list)-1)])\n",
    "        return languages\n",
    "\n",
    "    def print_details(self, data):\n",
    "        print(f'age: {data[\"age\"]}')\n",
    "        for lang in data[\"language\"]:\n",
    "            print(f'language(s): {lang}')\n",
    "        print(f'type: {data[\"type\"]}')\n",
    "        print(\" \")\n",
    "        \n",
    "class Employee(Person):\n",
    "    def promote(self, data):\n",
    "        data[\"type\"] = \"manager\"\n",
    "\n",
    "class Manager(Person):\n",
    "    pass"
   ]
  },
  {
   "cell_type": "markdown",
   "metadata": {},
   "source": [
    "This company has 3 people: Joe is the manager and he has two employees, Nestor and Rob."
   ]
  },
  {
   "cell_type": "code",
   "execution_count": 149,
   "metadata": {},
   "outputs": [],
   "source": [
    "XeronCo = Company(\"Xeron Company\")"
   ]
  },
  {
   "cell_type": "markdown",
   "metadata": {},
   "source": [
    "Nobody works here yet"
   ]
  },
  {
   "cell_type": "code",
   "execution_count": 150,
   "metadata": {},
   "outputs": [],
   "source": [
    "XeronCo.who_works_here()"
   ]
  },
  {
   "cell_type": "markdown",
   "metadata": {},
   "source": [
    "then add 3 new people"
   ]
  },
  {
   "cell_type": "code",
   "execution_count": 151,
   "metadata": {},
   "outputs": [],
   "source": [
    "XeronCo.add_employee(\"Nestor\")\n",
    "XeronCo.add_employee(\"Rob\")\n",
    "XeronCo.add_employee(\"Joe\")"
   ]
  },
  {
   "cell_type": "code",
   "execution_count": 152,
   "metadata": {},
   "outputs": [
    {
     "name": "stdout",
     "output_type": "stream",
     "text": [
      "name: Nestor\n",
      "name: Rob\n",
      "name: Joe\n"
     ]
    }
   ],
   "source": [
    "XeronCo.who_works_here()"
   ]
  },
  {
   "cell_type": "code",
   "execution_count": 153,
   "metadata": {},
   "outputs": [
    {
     "name": "stdout",
     "output_type": "stream",
     "text": [
      "age: 59\n",
      "language(s): Spanish\n",
      "language(s): Russian\n",
      "type: employee\n",
      " \n"
     ]
    }
   ],
   "source": [
    "XeronCo.show_me_details_for(\"Nestor\")"
   ]
  },
  {
   "cell_type": "code",
   "execution_count": 154,
   "metadata": {},
   "outputs": [
    {
     "name": "stdout",
     "output_type": "stream",
     "text": [
      "age: 22\n",
      "language(s): English\n",
      "language(s): English\n",
      "type: employee\n",
      " \n"
     ]
    }
   ],
   "source": [
    "XeronCo.show_me_details_for(\"Rob\")"
   ]
  },
  {
   "cell_type": "code",
   "execution_count": 155,
   "metadata": {},
   "outputs": [
    {
     "name": "stdout",
     "output_type": "stream",
     "text": [
      "name: Nestor\n",
      "age: 59\n",
      "language(s): Spanish\n",
      "language(s): Russian\n",
      "type: employee\n",
      " \n",
      "name: Rob\n",
      "age: 22\n",
      "language(s): English\n",
      "language(s): English\n",
      "type: employee\n",
      " \n",
      "name: Joe\n",
      "age: 33\n",
      "language(s): Mandarin\n",
      "type: employee\n",
      " \n"
     ]
    }
   ],
   "source": [
    "XeronCo.show_all_employees()"
   ]
  },
  {
   "cell_type": "code",
   "execution_count": 156,
   "metadata": {},
   "outputs": [],
   "source": [
    "XeronCo.promote_to_manager(\"Joe\")"
   ]
  },
  {
   "cell_type": "code",
   "execution_count": 157,
   "metadata": {},
   "outputs": [
    {
     "name": "stdout",
     "output_type": "stream",
     "text": [
      "name: Nestor\n",
      "age: 59\n",
      "language(s): Spanish\n",
      "language(s): Russian\n",
      "type: employee\n",
      " \n",
      "name: Rob\n",
      "age: 22\n",
      "language(s): English\n",
      "language(s): English\n",
      "type: employee\n",
      " \n",
      "name: Joe\n",
      "age: 33\n",
      "language(s): Mandarin\n",
      "type: manager\n",
      " \n"
     ]
    }
   ],
   "source": [
    "XeronCo.show_all_employees()"
   ]
  },
  {
   "cell_type": "code",
   "execution_count": null,
   "metadata": {},
   "outputs": [],
   "source": []
  }
 ],
 "metadata": {
  "kernelspec": {
   "display_name": "Python 3",
   "language": "python",
   "name": "python3"
  },
  "language_info": {
   "codemirror_mode": {
    "name": "ipython",
    "version": 3
   },
   "file_extension": ".py",
   "mimetype": "text/x-python",
   "name": "python",
   "nbconvert_exporter": "python",
   "pygments_lexer": "ipython3",
   "version": "3.8.5"
  }
 },
 "nbformat": 4,
 "nbformat_minor": 4
}
