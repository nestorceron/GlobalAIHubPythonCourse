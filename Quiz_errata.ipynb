{
 "cells": [
  {
   "cell_type": "markdown",
   "metadata": {},
   "source": [
    "# Intro - Feedback on the quizzes\n",
    "First, let me thank you for the class. It was a great class and Tuana (the instructor) did a fantastic job.\n",
    "Second, I documented some issues below related to the quizzes. My intention is to provide constructive feedback, so in the future there are better programmers.\n",
    "\n",
    "With that spirit in mind, I believe that good programming techniques should be part of the class and specially the quizzes. In python, if I forget a colon at the end of a line, the program will not run. Precision and correctness is essencial in programming. The code in many questions will not run in python. \n",
    "\n",
    "Naming of variables and functions is also important. Variables as instances of objects interact with each other and you need to implement good naming conventions. Calling something \"square\", when it represents a \"square-root\" is not correct. The teaching should focus then on the naming and not in tricking you that you can follow a weird name. That is how bugs are created in software.\n",
    "\n",
    "Another example of this is the question for if-else statements. Three variables with three nested ifs and each evaluation using all three variables.  When do you find code like this in an application? Never ! It is a bad programming technique. The teaching should focus on simplifying that nested if, so you can understand and other programmers can follow along when they see your code.\n",
    "\n",
    "Taking everything into account, it was a great class. Your efforts to bring technology to all parts of the world are noble and I hope that my comments are a small contribution to make the class better.\n",
    "\n",
    "Happy coding,\n",
    "Nestor Ceron"
   ]
  },
  {
   "cell_type": "markdown",
   "metadata": {},
   "source": [
    "# Quiz 1\n",
    "### Question 8\n",
    "Exactly as it is typed in the quiz"
   ]
  },
  {
   "cell_type": "code",
   "execution_count": 2,
   "metadata": {
    "scrolled": true
   },
   "outputs": [
    {
     "name": "stdout",
     "output_type": "stream",
     "text": [
      "artificial general intelligenc\n"
     ]
    }
   ],
   "source": [
    "word2 = \"artificial general intelligence\"\n",
    "print(word.strip(\"e\"))\n",
    "\n",
    "# There are two issues\n",
    "# 1.the print function is missing the closing parenthesis\n",
    "# 2.word is not defined!"
   ]
  },
  {
   "cell_type": "markdown",
   "metadata": {},
   "source": [
    "# Quiz 2\n",
    "### Question 2"
   ]
  },
  {
   "cell_type": "code",
   "execution_count": 3,
   "metadata": {},
   "outputs": [
    {
     "name": "stdout",
     "output_type": "stream",
     "text": [
      "[0, 1, 1, 1, 2, 2, 2, 2, 2, 3]\n"
     ]
    }
   ],
   "source": [
    "nums = list(range(10))\n",
    "squares = [int(i**0.5) for i in nums]\n",
    "print(squares)\n",
    "\n",
    "# I will claim that this is bad programming technique\n",
    "# As a best practice you should name something representative of the values\n",
    "# if squares are not the squares of the numbers, do not call it that.\n",
    "# this is a bug in the making.\n",
    "# for the class it should be named correctly and not to trick a student."
   ]
  },
  {
   "cell_type": "markdown",
   "metadata": {},
   "source": [
    "# Quiz 3\n",
    "### Question 1"
   ]
  },
  {
   "cell_type": "code",
   "execution_count": 6,
   "metadata": {},
   "outputs": [
    {
     "ename": "TypeError",
     "evalue": "'type' object is not subscriptable",
     "output_type": "error",
     "traceback": [
      "\u001b[0;31m---------------------------------------------------------------------------\u001b[0m",
      "\u001b[0;31mTypeError\u001b[0m                                 Traceback (most recent call last)",
      "\u001b[0;32m<ipython-input-6-bfcc54a7af86>\u001b[0m in \u001b[0;36m<module>\u001b[0;34m\u001b[0m\n\u001b[0;32m----> 1\u001b[0;31m \u001b[0mlist1\u001b[0m \u001b[0;34m=\u001b[0m \u001b[0mlist\u001b[0m\u001b[0;34m[\u001b[0m\u001b[0;36m1\u001b[0m\u001b[0;34m,\u001b[0m\u001b[0;36m3\u001b[0m\u001b[0;34m]\u001b[0m\u001b[0;34m\u001b[0m\u001b[0;34m\u001b[0m\u001b[0m\n\u001b[0m\u001b[1;32m      2\u001b[0m \u001b[0mlist2\u001b[0m \u001b[0;34m=\u001b[0m \u001b[0mlist1\u001b[0m\u001b[0;34m\u001b[0m\u001b[0;34m\u001b[0m\u001b[0m\n\u001b[1;32m      3\u001b[0m \u001b[0mlist1\u001b[0m\u001b[0;34m[\u001b[0m\u001b[0;36m0\u001b[0m\u001b[0;34m]\u001b[0m \u001b[0;34m=\u001b[0m \u001b[0;36m4\u001b[0m\u001b[0;34m\u001b[0m\u001b[0;34m\u001b[0m\u001b[0m\n\u001b[1;32m      4\u001b[0m \u001b[0mprint\u001b[0m\u001b[0;34m(\u001b[0m\u001b[0mlist2\u001b[0m\u001b[0;34m)\u001b[0m\u001b[0;34m\u001b[0m\u001b[0;34m\u001b[0m\u001b[0m\n\u001b[1;32m      5\u001b[0m \u001b[0;34m\u001b[0m\u001b[0m\n",
      "\u001b[0;31mTypeError\u001b[0m: 'type' object is not subscriptable"
     ]
    }
   ],
   "source": [
    "list1 = list[1,3]\n",
    "list2 = list1\n",
    "list1[0] = 4\n",
    "print(list2)\n",
    "\n",
    "# if you run it, as it is typed you get\n",
    "# TypeError: 'type' object is not subscriptable"
   ]
  },
  {
   "cell_type": "markdown",
   "metadata": {},
   "source": [
    "### Question 4"
   ]
  },
  {
   "cell_type": "code",
   "execution_count": 7,
   "metadata": {},
   "outputs": [
    {
     "name": "stdout",
     "output_type": "stream",
     "text": [
      "[44, 2, 3]\n"
     ]
    }
   ],
   "source": [
    "def f(values):\n",
    "    values[0] = 44\n",
    "\n",
    "v = [1, 2, 3]\n",
    "f(v)\n",
    "print(v)\n",
    "\n",
    "# No comments, you are right!\n",
    "# The lesson here is to explain that a list is a reference\n",
    "# and therefore, it allows you to change the content of it with a function."
   ]
  },
  {
   "cell_type": "markdown",
   "metadata": {},
   "source": [
    "# Quiz 4\n",
    "### Question 1"
   ]
  },
  {
   "cell_type": "code",
   "execution_count": 9,
   "metadata": {},
   "outputs": [
    {
     "name": "stdout",
     "output_type": "stream",
     "text": [
      "Sum: 21\n"
     ]
    }
   ],
   "source": [
    "def adder(*num):\n",
    "    sum = 0\n",
    "    \n",
    "    for n in num:\n",
    "        sum = sum + n\n",
    "        \n",
    "    print(\"Sum:\", sum)\n",
    "    \n",
    "adder(1, 2, 3, 4, 5, 6)\n",
    "\n",
    "# This function intention is to add all numbers\n",
    "# The sum is 21! and quiz answer says that 17 is correct. No way !"
   ]
  },
  {
   "cell_type": "markdown",
   "metadata": {},
   "source": [
    "### Question 9"
   ]
  },
  {
   "cell_type": "code",
   "execution_count": 12,
   "metadata": {},
   "outputs": [
    {
     "name": "stdout",
     "output_type": "stream",
     "text": [
      "Please enter a number:3.2\n"
     ]
    },
    {
     "ename": "TypeError",
     "evalue": "catching classes that do not inherit from BaseException is not allowed",
     "output_type": "error",
     "traceback": [
      "\u001b[0;31m---------------------------------------------------------------------------\u001b[0m",
      "\u001b[0;31mValueError\u001b[0m                                Traceback (most recent call last)",
      "\u001b[0;32m<ipython-input-12-10e5353a48f9>\u001b[0m in \u001b[0;36m<module>\u001b[0;34m\u001b[0m\n\u001b[1;32m      2\u001b[0m     \u001b[0;32mtry\u001b[0m\u001b[0;34m:\u001b[0m\u001b[0;34m\u001b[0m\u001b[0;34m\u001b[0m\u001b[0m\n\u001b[0;32m----> 3\u001b[0;31m         \u001b[0mx\u001b[0m \u001b[0;34m=\u001b[0m \u001b[0mint\u001b[0m\u001b[0;34m(\u001b[0m\u001b[0minput\u001b[0m\u001b[0;34m(\u001b[0m\u001b[0;34m\"Please enter a number:\"\u001b[0m\u001b[0;34m)\u001b[0m\u001b[0;34m)\u001b[0m\u001b[0;34m\u001b[0m\u001b[0;34m\u001b[0m\u001b[0m\n\u001b[0m\u001b[1;32m      4\u001b[0m         \u001b[0;32mbreak\u001b[0m\u001b[0;34m\u001b[0m\u001b[0;34m\u001b[0m\u001b[0m\n",
      "\u001b[0;31mValueError\u001b[0m: invalid literal for int() with base 10: '3.2'",
      "\nDuring handling of the above exception, another exception occurred:\n",
      "\u001b[0;31mTypeError\u001b[0m                                 Traceback (most recent call last)",
      "\u001b[0;32m<ipython-input-12-10e5353a48f9>\u001b[0m in \u001b[0;36m<module>\u001b[0;34m\u001b[0m\n\u001b[1;32m      4\u001b[0m         \u001b[0;32mbreak\u001b[0m\u001b[0;34m\u001b[0m\u001b[0;34m\u001b[0m\u001b[0m\n\u001b[1;32m      5\u001b[0m \u001b[0;34m\u001b[0m\u001b[0m\n\u001b[0;32m----> 6\u001b[0;31m     \u001b[0;32mexcept\u001b[0m \u001b[0mValueError\u001b[0m\u001b[0;34m(\u001b[0m\u001b[0;34m)\u001b[0m\u001b[0;34m:\u001b[0m\u001b[0;34m\u001b[0m\u001b[0;34m\u001b[0m\u001b[0m\n\u001b[0m\u001b[1;32m      7\u001b[0m         \u001b[0mprint\u001b[0m\u001b[0;34m(\u001b[0m\u001b[0;34m\"Ooops That was no valid number, try again\"\u001b[0m\u001b[0;34m)\u001b[0m\u001b[0;34m\u001b[0m\u001b[0;34m\u001b[0m\u001b[0m\n\u001b[1;32m      8\u001b[0m \u001b[0;34m\u001b[0m\u001b[0m\n",
      "\u001b[0;31mTypeError\u001b[0m: catching classes that do not inherit from BaseException is not allowed"
     ]
    }
   ],
   "source": [
    "while True:\n",
    "    try:\n",
    "        x = int(input(\"Please enter a number:\"))\n",
    "        break\n",
    "    \n",
    "    except ValueError():\n",
    "        print(\"Ooops That was no valid number, try again\")\n",
    "\n",
    "# Issues:\n",
    "# while true:                                 # NameError: name 'true' is not defined\n",
    "# x = int(input(\"Please enter a number:\")     # It is missing the closing parenthesis\n",
    "\n",
    "# and if you run it and enter 3.2\n",
    "# you get ValueError: invalid literal for int() with base 10: '3.2'\n",
    "# you do not get \"Ooops That was no valid number, try again\" as the answer of the quiz claims\n"
   ]
  }
 ],
 "metadata": {
  "kernelspec": {
   "display_name": "Python 3",
   "language": "python",
   "name": "python3"
  },
  "language_info": {
   "codemirror_mode": {
    "name": "ipython",
    "version": 3
   },
   "file_extension": ".py",
   "mimetype": "text/x-python",
   "name": "python",
   "nbconvert_exporter": "python",
   "pygments_lexer": "ipython3",
   "version": "3.8.5"
  }
 },
 "nbformat": 4,
 "nbformat_minor": 4
}
